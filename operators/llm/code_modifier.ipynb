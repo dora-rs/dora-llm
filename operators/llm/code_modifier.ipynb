{
 "cells": [
  {
   "cell_type": "markdown",
   "id": "4b1e7f43-24ec-444e-b162-dd81dfe27266",
   "metadata": {},
   "source": [
    "# "
   ]
  },
  {
   "cell_type": "code",
   "execution_count": 1,
   "id": "c348c762-6123-48c5-8eb2-3e155a245d78",
   "metadata": {},
   "outputs": [],
   "source": [
    "import dora\n",
    "import pyarrow as pa\n",
    "import inspect\n",
    "import os\n",
    "import numpy as np\n",
    "import pandas as pd\n",
    "import pylcs\n",
    "import textwrap\n",
    "import os\n",
    "import sys\n",
    "import time"
   ]
  },
  {
   "cell_type": "code",
   "execution_count": 2,
   "id": "ca596b24-37d6-4f6e-8efe-5df35500d2c5",
   "metadata": {},
   "outputs": [],
   "source": [
    "node = dora.Node()"
   ]
  },
  {
   "cell_type": "code",
   "execution_count": 3,
   "id": "2afe8447-f348-4b1e-805b-df8316955c01",
   "metadata": {},
   "outputs": [],
   "source": [
    "\n",
    "\n",
    "def search_most_simlar_line(text, searched_line):\n",
    "    lines = text.split(\"\\n\")\n",
    "    values = []\n",
    "\n",
    "    for line in lines:\n",
    "        values.append(pylcs.lcs_sequence_length(line, searched_line))\n",
    "    output = lines[np.array(values).argmax()]\n",
    "    return output\n",
    "\n",
    "\n",
    "def strip_indentation(code_block):\n",
    "    # Use textwrap.dedent to strip common leading whitespace\n",
    "    dedented_code = textwrap.dedent(code_block)\n",
    "\n",
    "    return dedented_code\n",
    "\n",
    "\n",
    "def replace_code_with_indentation(original_code, replacement_code):\n",
    "    # Split the original code into lines\n",
    "    lines = original_code.splitlines()\n",
    "\n",
    "    # Preserve the indentation of the first line\n",
    "    indentation = lines[0][: len(lines[0]) - len(lines[0].lstrip())]\n",
    "\n",
    "    # Create a new list of lines with the replacement code and preserved indentation\n",
    "    new_code_lines = indentation + replacement_code\n",
    "\n",
    "    return new_code_lines\n",
    "\n",
    "\n",
    "def replace_source_code(source_code, gen_replacement):\n",
    "    initial = search_most_simlar_line(source_code, gen_replacement)\n",
    "    replacement = strip_indentation(gen_replacement.replace(\"```python\\n\", \"\").replace(\"\\n```\", \"\").replace(\"\\n\", \"\"))\n",
    "    intermediate_result = replace_code_with_indentation(initial, replacement)\n",
    "    end_result = source_code.replace(initial, intermediate_result)\n",
    "    return end_result\n",
    "\n",
    "\n",
    "def generate_code(node, prompt):\n",
    "    ## Query VectorDB\n",
    "    node.send_output(\"query\", pa.array([prompt]))\n",
    "    \n",
    "    event = node.next(timeout=5)\n",
    "    \n",
    "    if event[\"type\"] == \"ERROR\":\n",
    "        raise (event[\"error\"])\n",
    "    else:\n",
    "        source_code = event[\"value\"]\n",
    "        source_code = pd.DataFrame(data=source_code.to_pandas().to_numpy().reshape((-1, 3)), columns = [\"path\", \"code\", \"on_input\"])\n",
    "    text = source_code[\"on_input\"][0]\n",
    "    \n",
    "    ## Generate code based on retrieved data\n",
    "    node.send_output(\"prompt\", pa.array([f\"{text} \\n {prompt}. Respond with one line of code only \"]))\n",
    "    event = node.next(timeout=10)\n",
    "    print(f\"Generated code: \")\n",
    "    if event[\"type\"] == \"ERROR\":\n",
    "        raise (event[\"error\"])\n",
    "    else:\n",
    "        gen_replacement = event[\"value\"][0].as_py()\n",
    "        print(event[\"value\"][0])\n",
    "\n",
    "    # new source code\n",
    "    new_source_code = replace_source_code(source_code[\"code\"][0], gen_replacement)\n",
    "\n",
    "    # Write to file\n",
    "    with open(source_code[\"path\"][0], 'w') as f:\n",
    "        f.write(new_source_code)"
   ]
  },
  {
   "cell_type": "code",
   "execution_count": 4,
   "id": "efedd4cf-7de9-43a6-96b0-54d9838f9813",
   "metadata": {
    "scrolled": true
   },
   "outputs": [],
   "source": [
    "\n",
    "\n",
    "\n",
    "## Get all python files path in given directory\n",
    "def get_all_functions(path):\n",
    "    functions = []\n",
    "    paths = []\n",
    "    codes = []\n",
    "    for root, dirs, files in os.walk(path):\n",
    "        for file in files:\n",
    "            if file.endswith(\".py\"):\n",
    "                path = os.path.join(root, file)\n",
    "                with open(path, \"r\", encoding=\"utf8\") as f:\n",
    "                    ## add file folder to system path\n",
    "                    sys.path.append(root)\n",
    "                    ## import module from path\n",
    "                    try:\n",
    "                        module = __import__(file[:-3])\n",
    "                        ## get all functions in module\n",
    "                        for name, data in module.__dict__.items():\n",
    "                            if inspect.isclass(data) and name == \"Operator\":\n",
    "                                source = inspect.getsource(data.on_input)\n",
    "                                codes.append(source)\n",
    "                                functions.append(f.read())\n",
    "                                paths.append(path)\n",
    "\n",
    "                    except Exception as err:\n",
    "                        print(err)\n",
    "                        pass\n",
    "\n",
    "    return functions, paths, codes\n",
    "\n",
    "def generate_db(node, path):\n",
    "    node.send_output(\"clear\", pa.array([\"\"]))\n",
    "    files, paths, codes = get_all_functions(path)\n",
    "    print(f\"Number of files: {len(files)}\")\n",
    "    files.extend(paths)\n",
    "    files.extend(codes)\n",
    "    node.send_output(\"append\", pa.array(files))\n",
    "    \n",
    "path = \"/home/peter/Documents/work/dora-llm/operators/webcam/\"\n"
   ]
  },
  {
   "cell_type": "code",
   "execution_count": 5,
   "id": "c4d11282-abe5-4600-9b48-c6314ee3c4be",
   "metadata": {
    "scrolled": true
   },
   "outputs": [
    {
     "name": "stdout",
     "output_type": "stream",
     "text": [
      "type object 'Operator' has no attribute 'on_input'\n",
      "Number of files: 2\n"
     ]
    }
   ],
   "source": [
    "path = \"/home/peter/Documents/work/dora-llm/operators/webcam/\"\n",
    "generate_db(node, path)"
   ]
  },
  {
   "cell_type": "code",
   "execution_count": 6,
   "id": "a3d88cee-27c8-413b-9370-f4be00a9904a",
   "metadata": {},
   "outputs": [],
   "source": [
    "PROMPT = \"Can you change the bounding box from rectangle to circles?\""
   ]
  },
  {
   "cell_type": "code",
   "execution_count": 7,
   "id": "23bd449c-29e0-4b40-91b8-2e86408e92ab",
   "metadata": {},
   "outputs": [
    {
     "name": "stdout",
     "output_type": "stream",
     "text": [
      "Generated code: \n",
      "         cv2.circle(self.image, (int(min_x), int(min_y)), int(max_x - min_x), (0, 255, 0), 2)\n"
     ]
    }
   ],
   "source": [
    "generate_code(node, PROMPT)"
   ]
  },
  {
   "cell_type": "code",
   "execution_count": 1,
   "id": "dc7c980e-6e96-4408-b0d5-07c7a980c9f5",
   "metadata": {},
   "outputs": [
    {
     "name": "stdout",
     "output_type": "stream",
     "text": [
      "trial: 0\n",
      "trial: 1\n",
      "trial: 2\n",
      "trial: 3\n",
      "trial: 4\n"
     ]
    }
   ],
   "source": [
    "node.send_output(\"speech\", pa.array([\"\"]))"
   ]
  },
  {
   "cell_type": "code",
   "execution_count": 11,
   "id": "766b3057-cafa-440e-8c47-5b6ef7561ef6",
   "metadata": {},
   "outputs": [
    {
     "name": "stdout",
     "output_type": "stream",
     "text": [
      "Generated code: \n",
      "         cv2.putText(self.image, LABELS[int(label)] + f\", {confidence:0.2f}\", (int(max_x), int(max_y)), font, 0.75, (0, 0, 0), 2, 1)\n"
     ]
    }
   ],
   "source": [
    "node.send_output(\"speech\", pa.array([\"\"]))\n",
    "time.sleep(7)\n",
    "prompt = node.next(timeout=5)[\"value\"][0].as_py()\n",
    "if prompt is not None:\n",
    "    generate_code(node, prompt)\n",
    "else:\n",
    "    print(\"did not work\")"
   ]
  },
  {
   "cell_type": "code",
   "execution_count": 12,
   "id": "3c2d444e-b0d2-431c-ae3a-c607e7475aa5",
   "metadata": {},
   "outputs": [
    {
     "ename": "NameError",
     "evalue": "name 'source_code' is not defined",
     "output_type": "error",
     "traceback": [
      "\u001b[0;31m---------------------------------------------------------------------------\u001b[0m",
      "\u001b[0;31mNameError\u001b[0m                                 Traceback (most recent call last)",
      "Cell \u001b[0;32mIn[12], line 2\u001b[0m\n\u001b[1;32m      1\u001b[0m \u001b[38;5;66;03m# If not ok revert!\u001b[39;00m\n\u001b[0;32m----> 2\u001b[0m \u001b[38;5;28;01mwith\u001b[39;00m \u001b[38;5;28mopen\u001b[39m(\u001b[43msource_code\u001b[49m[\u001b[38;5;124m\"\u001b[39m\u001b[38;5;124mpath\u001b[39m\u001b[38;5;124m\"\u001b[39m][\u001b[38;5;241m0\u001b[39m], \u001b[38;5;124m'\u001b[39m\u001b[38;5;124mw\u001b[39m\u001b[38;5;124m'\u001b[39m) \u001b[38;5;28;01mas\u001b[39;00m f:\n\u001b[1;32m      3\u001b[0m     f\u001b[38;5;241m.\u001b[39mwrite(source_code[\u001b[38;5;124m\"\u001b[39m\u001b[38;5;124mcode\u001b[39m\u001b[38;5;124m\"\u001b[39m][\u001b[38;5;241m0\u001b[39m])\n",
      "\u001b[0;31mNameError\u001b[0m: name 'source_code' is not defined"
     ]
    }
   ],
   "source": [
    "# If not ok revert!\n",
    "with open(source_code[\"path\"][0], 'w') as f:\n",
    "    f.write(source_code[\"code\"][0])"
   ]
  },
  {
   "cell_type": "code",
   "execution_count": 7,
   "id": "662819ac-8353-4189-ad25-67868aadfd77",
   "metadata": {},
   "outputs": [
    {
     "data": {
      "text/plain": [
       "' Can you change the bounding box to blue?'"
      ]
     },
     "execution_count": 7,
     "metadata": {},
     "output_type": "execute_result"
    }
   ],
   "source": [
    "prompt"
   ]
  },
  {
   "cell_type": "code",
   "execution_count": null,
   "id": "8140b191-8e46-4086-a7c1-940f89acff68",
   "metadata": {},
   "outputs": [],
   "source": []
  }
 ],
 "metadata": {
  "kernelspec": {
   "display_name": "Python 3 (ipykernel)",
   "language": "python",
   "name": "python3"
  },
  "language_info": {
   "codemirror_mode": {
    "name": "ipython",
    "version": 3
   },
   "file_extension": ".py",
   "mimetype": "text/x-python",
   "name": "python",
   "nbconvert_exporter": "python",
   "pygments_lexer": "ipython3",
   "version": "3.10.10"
  }
 },
 "nbformat": 4,
 "nbformat_minor": 5
}
